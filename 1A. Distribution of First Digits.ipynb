{
 "cells": [
  {
   "cell_type": "markdown",
   "metadata": {
    "colab_type": "text",
    "id": "__1JBcfGnOHj"
   },
   "source": [
    "# The Distribution of First Digits\n",
    "\n",
    "In this lab, you will explore the distribution of first digits in real data. For example, the first digits of the numbers 52, 30.8, and 0.07 are 5, 3, and 7 respectively. In this lab, you will investigate the question: how frequently does each digit 1-9 appear as the first digit of the number?\n"
   ]
  },
  {
   "cell_type": "markdown",
   "metadata": {
    "colab_type": "text",
    "id": "iJ0is3PhnOHl"
   },
   "source": [
    "## Question 0\n",
    "\n",
    "Make a prediction. \n",
    "\n",
    "1. Approximately what percentage of the values do you think will have a _first_ digit of 1? What percentage of the values do you think will have a first digit of 9?\n",
    "2. Approximately what percentage of the values do you think will have a _last_ digit of 1? What percentage of the values do you think will have a last digit of 9?\n",
    "\n",
    "(Don't worry about being wrong. You will earn full credit for any justified answer.)"
   ]
  },
  {
   "cell_type": "markdown",
   "metadata": {
    "colab_type": "text",
    "id": "D4Kxu2djnOHm"
   },
   "source": [
    "**MY EXPLANATION** \n",
    "1) I think approximateley 10% of values will have the first digit of 1 and approximately 10% of values will have the first digit of 9.\n",
    "2) Similarly I think approximateley 10% of values will have the last digit of 1 and approximately 10% of values will have the last digit of 9."
   ]
  },
  {
   "cell_type": "markdown",
   "metadata": {
    "colab_type": "text",
    "id": "Dyc5U7u7nOHn"
   },
   "source": [
    "## Question 1\n",
    "\n",
    "The [S&P 500](https://en.wikipedia.org/wiki/S%26P_500_Index) is a stock index based on the market capitalizations of large companies that are publicly traded on the NYSE or NASDAQ. The CSV file `sp500.csv` contains data from February 1, 2018 about the stocks that comprise the S&P 500. We will investigate the first digit distributions of the variables in this data set.\n",
    "\n",
    "Read in the S&P 500 data. What is the unit of observation in this data set? Is there a variable that is natural to use as the index? If so, set that variable to be the index. Once you are done, display the `DataFrame`."
   ]
  },
  {
   "cell_type": "code",
   "execution_count": 1,
   "metadata": {
    "colab": {},
    "colab_type": "code",
    "id": "vX2M_vUAnOHr",
    "outputId": "9e1819ee-c8d0-441c-f9cc-5e1bc8558716"
   },
   "outputs": [
    {
     "data": {
      "text/html": [
       "<div>\n",
       "<style scoped>\n",
       "    .dataframe tbody tr th:only-of-type {\n",
       "        vertical-align: middle;\n",
       "    }\n",
       "\n",
       "    .dataframe tbody tr th {\n",
       "        vertical-align: top;\n",
       "    }\n",
       "\n",
       "    .dataframe thead th {\n",
       "        text-align: right;\n",
       "    }\n",
       "</style>\n",
       "<table border=\"1\" class=\"dataframe\">\n",
       "  <thead>\n",
       "    <tr style=\"text-align: right;\">\n",
       "      <th></th>\n",
       "      <th>date</th>\n",
       "      <th>open</th>\n",
       "      <th>close</th>\n",
       "      <th>volume</th>\n",
       "    </tr>\n",
       "    <tr>\n",
       "      <th>Name</th>\n",
       "      <th></th>\n",
       "      <th></th>\n",
       "      <th></th>\n",
       "      <th></th>\n",
       "    </tr>\n",
       "  </thead>\n",
       "  <tbody>\n",
       "    <tr>\n",
       "      <th>AAL</th>\n",
       "      <td>2018-02-01</td>\n",
       "      <td>$54.00</td>\n",
       "      <td>$53.88</td>\n",
       "      <td>3623078</td>\n",
       "    </tr>\n",
       "    <tr>\n",
       "      <th>AAPL</th>\n",
       "      <td>2018-02-01</td>\n",
       "      <td>$167.16</td>\n",
       "      <td>$167.78</td>\n",
       "      <td>47230787</td>\n",
       "    </tr>\n",
       "    <tr>\n",
       "      <th>AAP</th>\n",
       "      <td>2018-02-01</td>\n",
       "      <td>$116.24</td>\n",
       "      <td>$117.29</td>\n",
       "      <td>760629</td>\n",
       "    </tr>\n",
       "    <tr>\n",
       "      <th>ABBV</th>\n",
       "      <td>2018-02-01</td>\n",
       "      <td>$112.24</td>\n",
       "      <td>$116.34</td>\n",
       "      <td>9943452</td>\n",
       "    </tr>\n",
       "    <tr>\n",
       "      <th>ABC</th>\n",
       "      <td>2018-02-01</td>\n",
       "      <td>$97.74</td>\n",
       "      <td>$99.29</td>\n",
       "      <td>2786798</td>\n",
       "    </tr>\n",
       "    <tr>\n",
       "      <th>...</th>\n",
       "      <td>...</td>\n",
       "      <td>...</td>\n",
       "      <td>...</td>\n",
       "      <td>...</td>\n",
       "    </tr>\n",
       "    <tr>\n",
       "      <th>XYL</th>\n",
       "      <td>2018-02-01</td>\n",
       "      <td>$72.50</td>\n",
       "      <td>$74.84</td>\n",
       "      <td>1817612</td>\n",
       "    </tr>\n",
       "    <tr>\n",
       "      <th>YUM</th>\n",
       "      <td>2018-02-01</td>\n",
       "      <td>$84.24</td>\n",
       "      <td>$83.98</td>\n",
       "      <td>1685275</td>\n",
       "    </tr>\n",
       "    <tr>\n",
       "      <th>ZBH</th>\n",
       "      <td>2018-02-01</td>\n",
       "      <td>$126.35</td>\n",
       "      <td>$128.19</td>\n",
       "      <td>1756300</td>\n",
       "    </tr>\n",
       "    <tr>\n",
       "      <th>ZION</th>\n",
       "      <td>2018-02-01</td>\n",
       "      <td>$53.79</td>\n",
       "      <td>$54.98</td>\n",
       "      <td>3542047</td>\n",
       "    </tr>\n",
       "    <tr>\n",
       "      <th>ZTS</th>\n",
       "      <td>2018-02-01</td>\n",
       "      <td>$76.84</td>\n",
       "      <td>$77.82</td>\n",
       "      <td>2982259</td>\n",
       "    </tr>\n",
       "  </tbody>\n",
       "</table>\n",
       "<p>505 rows × 4 columns</p>\n",
       "</div>"
      ],
      "text/plain": [
       "            date     open    close    volume\n",
       "Name                                        \n",
       "AAL   2018-02-01   $54.00   $53.88   3623078\n",
       "AAPL  2018-02-01  $167.16  $167.78  47230787\n",
       "AAP   2018-02-01  $116.24  $117.29    760629\n",
       "ABBV  2018-02-01  $112.24  $116.34   9943452\n",
       "ABC   2018-02-01   $97.74   $99.29   2786798\n",
       "...          ...      ...      ...       ...\n",
       "XYL   2018-02-01   $72.50   $74.84   1817612\n",
       "YUM   2018-02-01   $84.24   $83.98   1685275\n",
       "ZBH   2018-02-01  $126.35  $128.19   1756300\n",
       "ZION  2018-02-01   $53.79   $54.98   3542047\n",
       "ZTS   2018-02-01   $76.84   $77.82   2982259\n",
       "\n",
       "[505 rows x 4 columns]"
      ]
     },
     "execution_count": 1,
     "metadata": {},
     "output_type": "execute_result"
    }
   ],
   "source": [
    "# ENTER YOUR CODE HERE.\n",
    "import pandas as pd\n",
    "df = pd.read_csv(\"sp500.csv\")\n",
    "df.head()\n",
    "index = df\n",
    "index.set_index('Name')"
   ]
  },
  {
   "cell_type": "markdown",
   "metadata": {
    "colab_type": "text",
    "id": "7QlsiUNInOHz"
   },
   "source": [
    "**MY EXPLANATION**\n",
    "1) pandas is imported as pd.\n",
    "2) The library has a function called read_csv which reads csv files. sp500.csv is read into df.\n",
    "3) index is set to df\n",
    "4) Organized based of the name. set index can be changed to any of the columns"
   ]
  },
  {
   "cell_type": "markdown",
   "metadata": {
    "colab_type": "text",
    "id": "GKW3GDWYnOHz"
   },
   "source": [
    "## Question 2\n",
    "\n",
    "We will start by looking at the `volume` column. This variable tells us how many shares were traded on that date.\n",
    "\n",
    "Extract the first digit of every value in this column. (_Hint:_ First, turn the numbers into strings. Then, use the [text processing functionalities](https://pandas.pydata.org/pandas-docs/stable/text.html) of `pandas` to extract the first character of each string.) Make an appropriate visualization to display the distribution of the first digits. (_Hint:_ Think carefully about whether the variable you are plotting is quantitative or categorical.)\n",
    "\n",
    "How does this compare with what you predicted in Question 0?"
   ]
  },
  {
   "cell_type": "code",
   "execution_count": 2,
   "metadata": {
    "colab": {},
    "colab_type": "code",
    "id": "MyTVgillnOH0",
    "outputId": "e828b101-6fe7-47ad-f0ed-81b83a0ee9f4"
   },
   "outputs": [
    {
     "name": "stdout",
     "output_type": "stream",
     "text": [
      "1    165\n",
      "2     93\n",
      "3     59\n",
      "4     43\n",
      "5     41\n",
      "6     36\n",
      "7     25\n",
      "8     22\n",
      "9     21\n",
      "Name: volume, dtype: int64\n",
      "1    32.673267\n",
      "2    18.415842\n",
      "3    11.683168\n",
      "4     8.514851\n",
      "5     8.118812\n",
      "6     7.128713\n",
      "7     4.950495\n",
      "8     4.356436\n",
      "9     4.158416\n",
      "Name: volume, dtype: float64\n"
     ]
    },
    {
     "data": {
      "image/png": "[encoded data removed]",
      "text/plain": [
       "<Figure size 792x432 with 1 Axes>"
      ]
     },
     "metadata": {
      "needs_background": "light"
     },
     "output_type": "display_data"
    }
   ],
   "source": [
    "# ENTER YOUR CODE HERE.\n",
    "import matplotlib \n",
    "%matplotlib inline\n",
    "df.volume = df.volume.apply(str)\n",
    "first_digits = df.volume.str[0]\n",
    "temp = first_digits.value_counts()\n",
    "print(first_digits.value_counts())\n",
    "#print(df.volume.str[0])\n",
    "total = (temp / first_digits.value_counts().sum()) * 100\n",
    "print(total)\n",
    "\n",
    "plot = first_digits.value_counts().plot.bar(subplots=True, figsize=(11, 6))\n",
    "\n"
   ]
  },
  {
   "cell_type": "markdown",
   "metadata": {
    "colab_type": "text",
    "id": "Gg3msmSZnOIE"
   },
   "source": [
    "**MY EXPLANATION**\n",
    "1) First the volume column is converted from a column of int to a column of string\n",
    "2) First digits is set to take in only the firtst(0) digit of the volume from each row in the column\n",
    "3) Using print statement to check how many start with 1..9 and set it to column\n",
    "4) Set a variable called total to the the colmn divided by total amount of rows * 100\n",
    "32.6% of the volume start with one and only 4.1% of the volume starts with 9. "
   ]
  },
  {
   "cell_type": "markdown",
   "metadata": {
    "colab_type": "text",
    "id": "fw4kZAVmnOIF"
   },
   "source": [
    "## Question 3\n",
    "\n",
    "Now, repeat Question 2, but for the distribution of _last_ digits. Again, make an appropriate visualization and compare with your prediction in Question 0."
   ]
  },
  {
   "cell_type": "code",
   "execution_count": 3,
   "metadata": {
    "colab": {},
    "colab_type": "code",
    "id": "oovgcTUFnOIL"
   },
   "outputs": [
    {
     "name": "stdout",
     "output_type": "stream",
     "text": [
      "2    11.089109\n",
      "8    11.089109\n",
      "9    10.495050\n",
      "1    10.495050\n",
      "7    10.297030\n",
      "0    10.297030\n",
      "6    10.099010\n",
      "3     9.504950\n",
      "5     8.712871\n",
      "4     7.920792\n",
      "Name: volume, dtype: float64\n"
     ]
    },
    {
     "data": {
      "image/png": "[encoded data removed]",
      "text/plain": [
       "<Figure size 792x432 with 1 Axes>"
      ]
     },
     "metadata": {
      "needs_background": "light"
     },
     "output_type": "display_data"
    }
   ],
   "source": [
    "# ENTER YOUR CODE HERE.\n",
    "import matplotlib \n",
    "%matplotlib inline\n",
    "df.volume = df.volume.apply(str)\n",
    "last_digits = df.volume.str[-1]\n",
    "column = last_digits.value_counts()\n",
    "total = (column / last_digits.value_counts().sum()) * 100\n",
    "print(total)\n",
    "plot = last_digits.value_counts().plot.bar(subplots=True, figsize=(11, 6))\n",
    "\n"
   ]
  },
  {
   "cell_type": "markdown",
   "metadata": {
    "colab_type": "text",
    "id": "Wk1hWz2_nOIY"
   },
   "source": [
    "**MY EXPLANATION**\n",
    "1) First the volume column is converted from a column of int to a column of string\n",
    "2) Last digits is set to take in only the last(-1) digit of the volume from each row in the column\n",
    "3) Using print statement to check how many start with 1..9 and set it to column\n",
    "4) Set a variable called total to the the colmn divided by total amount of rows * 100\n",
    "11.1% of the volume end with one and only 7.9% of the volume starts with 9. "
   ]
  },
  {
   "cell_type": "markdown",
   "metadata": {
    "colab_type": "text",
    "id": "JSJYFTMAnOIZ"
   },
   "source": [
    "## Question 4\n",
    "\n",
    "Maybe the `volume` column was just a fluke. Let's see if the first digit distribution holds up when we look at a very different variable: the closing price of the stock. Make a visualization of the first digit distribution of the closing price (the `close` column of the `DataFrame`). Comment on what you see.\n",
    "\n",
    "(_Hint:_ What type did `pandas` infer this variable as and why? You will have to first clean the values using the [text processing functionalities](https://pandas.pydata.org/pandas-docs/stable/text.html) of `pandas` and then convert this variable to a quantitative variable.)"
   ]
  },
  {
   "cell_type": "code",
   "execution_count": 5,
   "metadata": {
    "colab": {},
    "colab_type": "code",
    "id": "8Xvx4HyhnOIa"
   },
   "outputs": [
    {
     "name": "stdout",
     "output_type": "stream",
     "text": [
      "1    171\n",
      "2     55\n",
      "3     52\n",
      "6     48\n",
      "4     43\n",
      "7     43\n",
      "5     39\n",
      "8     28\n",
      "9     26\n",
      "Name: close, dtype: int64\n",
      "1    33.861386\n",
      "2    10.891089\n",
      "3    10.297030\n",
      "6     9.504950\n",
      "4     8.514851\n",
      "7     8.514851\n",
      "5     7.722772\n",
      "8     5.544554\n",
      "9     5.148515\n",
      "Name: close, dtype: float64\n",
      "9    12.277228\n",
      "8    11.287129\n",
      "2    10.495050\n",
      "6    10.495050\n",
      "0    10.495050\n",
      "5    10.297030\n",
      "7     9.306931\n",
      "3     8.910891\n",
      "1     8.910891\n",
      "4     7.524752\n",
      "Name: close, dtype: float64\n"
     ]
    },
    {
     "name": "stderr",
     "output_type": "stream",
     "text": [
      "<ipython-input-5-9b7d1ed03f18>:18: UserWarning: Matplotlib is currently using module://ipykernel.pylab.backend_inline, which is a non-GUI backend, so cannot show the figure.\n",
      "  graph.figure.show()\n"
     ]
    },
    {
     "ename": "AttributeError",
     "evalue": "'Series' object has no attribute 'value_count'",
     "output_type": "error",
     "traceback": [
      "\u001b[0;31m---------------------------------------------------------------------------\u001b[0m",
      "\u001b[0;31mAttributeError\u001b[0m                            Traceback (most recent call last)",
      "\u001b[0;32m<ipython-input-5-9b7d1ed03f18>\u001b[0m in \u001b[0;36m<module>\u001b[0;34m\u001b[0m\n\u001b[1;32m     18\u001b[0m \u001b[0mgraph\u001b[0m\u001b[0;34m.\u001b[0m\u001b[0mfigure\u001b[0m\u001b[0;34m.\u001b[0m\u001b[0mshow\u001b[0m\u001b[0;34m(\u001b[0m\u001b[0;34m)\u001b[0m\u001b[0;34m\u001b[0m\u001b[0;34m\u001b[0m\u001b[0m\n\u001b[1;32m     19\u001b[0m \u001b[0mmatplotlib\u001b[0m\u001b[0;34m.\u001b[0m\u001b[0mpyplot\u001b[0m\u001b[0;34m.\u001b[0m\u001b[0mcla\u001b[0m\u001b[0;34m(\u001b[0m\u001b[0;34m)\u001b[0m\u001b[0;34m\u001b[0m\u001b[0;34m\u001b[0m\u001b[0m\n\u001b[0;32m---> 20\u001b[0;31m \u001b[0mgraph1\u001b[0m \u001b[0;34m=\u001b[0m \u001b[0mfirst_digits\u001b[0m\u001b[0;34m.\u001b[0m\u001b[0mvalue_count\u001b[0m\u001b[0;34m(\u001b[0m\u001b[0mbins\u001b[0m\u001b[0;34m=\u001b[0m\u001b[0;36m9\u001b[0m\u001b[0;34m)\u001b[0m\u001b[0;34m\u001b[0m\u001b[0;34m\u001b[0m\u001b[0m\n\u001b[0m\u001b[1;32m     21\u001b[0m \u001b[0;31m#plot = first_digits.value_counts().plot.bar(subplots=True, figsize=(11, 6))\u001b[0m\u001b[0;34m\u001b[0m\u001b[0;34m\u001b[0m\u001b[0;34m\u001b[0m\u001b[0m\n\u001b[1;32m     22\u001b[0m \u001b[0;34m\u001b[0m\u001b[0m\n",
      "\u001b[0;32m/opt/anaconda3/lib/python3.8/site-packages/pandas/core/generic.py\u001b[0m in \u001b[0;36m__getattr__\u001b[0;34m(self, name)\u001b[0m\n\u001b[1;32m   5137\u001b[0m             \u001b[0;32mif\u001b[0m \u001b[0mself\u001b[0m\u001b[0;34m.\u001b[0m\u001b[0m_info_axis\u001b[0m\u001b[0;34m.\u001b[0m\u001b[0m_can_hold_identifiers_and_holds_name\u001b[0m\u001b[0;34m(\u001b[0m\u001b[0mname\u001b[0m\u001b[0;34m)\u001b[0m\u001b[0;34m:\u001b[0m\u001b[0;34m\u001b[0m\u001b[0;34m\u001b[0m\u001b[0m\n\u001b[1;32m   5138\u001b[0m                 \u001b[0;32mreturn\u001b[0m \u001b[0mself\u001b[0m\u001b[0;34m[\u001b[0m\u001b[0mname\u001b[0m\u001b[0;34m]\u001b[0m\u001b[0;34m\u001b[0m\u001b[0;34m\u001b[0m\u001b[0m\n\u001b[0;32m-> 5139\u001b[0;31m             \u001b[0;32mreturn\u001b[0m \u001b[0mobject\u001b[0m\u001b[0;34m.\u001b[0m\u001b[0m__getattribute__\u001b[0m\u001b[0;34m(\u001b[0m\u001b[0mself\u001b[0m\u001b[0;34m,\u001b[0m \u001b[0mname\u001b[0m\u001b[0;34m)\u001b[0m\u001b[0;34m\u001b[0m\u001b[0;34m\u001b[0m\u001b[0m\n\u001b[0m\u001b[1;32m   5140\u001b[0m \u001b[0;34m\u001b[0m\u001b[0m\n\u001b[1;32m   5141\u001b[0m     \u001b[0;32mdef\u001b[0m \u001b[0m__setattr__\u001b[0m\u001b[0;34m(\u001b[0m\u001b[0mself\u001b[0m\u001b[0;34m,\u001b[0m \u001b[0mname\u001b[0m\u001b[0;34m:\u001b[0m \u001b[0mstr\u001b[0m\u001b[0;34m,\u001b[0m \u001b[0mvalue\u001b[0m\u001b[0;34m)\u001b[0m \u001b[0;34m->\u001b[0m \u001b[0;32mNone\u001b[0m\u001b[0;34m:\u001b[0m\u001b[0;34m\u001b[0m\u001b[0;34m\u001b[0m\u001b[0m\n",
      "\u001b[0;31mAttributeError\u001b[0m: 'Series' object has no attribute 'value_count'"
     ]
    },
    {
     "data": {
      "image/png": "[encoded data removed]",
      "text/plain": [
       "<Figure size 432x288 with 1 Axes>"
      ]
     },
     "metadata": {
      "needs_background": "light"
     },
     "output_type": "display_data"
    }
   ],
   "source": [
    "# ENTER YOUR CODE HERE.\n",
    "import matplotlib \n",
    "#%matplotlib inline\n",
    "df.close = df.close.apply(str)\n",
    "first_digits = df.close.str[1]\n",
    "column = first_digits.value_counts()\n",
    "print(first_digits.value_counts())\n",
    "#print(df.volume.str[0])\n",
    "total = (column / first_digits.value_counts().sum()) * 100\n",
    "print(total)\n",
    "\n",
    "last_digits = df.close.str[-1]\n",
    "column1 = last_digits.value_counts()\n",
    "total1 = (column1 / last_digits.value_counts().sum()) * 100\n",
    "print(total1)\n",
    "\n",
    "#graph = first_digits.hist(bins=9)\n",
    "#graph.figure.show()\n",
    "#matplotlib.pyplot.cla()\n",
    "#graph1 = first_digits.value_count(bins=9)\n",
    "plot = first_digits.value_counts().plot.bar(subplots=True, figsize=(11, 6))\n",
    "\n",
    "\n"
   ]
  },
  {
   "cell_type": "markdown",
   "metadata": {
    "colab_type": "text",
    "id": "S5EGwnx1nOIj"
   },
   "source": [
    "**MY EXPLANATION HERE**\n",
    "There is a strong correlation between the first and last digit of volume and first and last digit of close respectively. I had to set it to read the sencond value in the string to avoid the dollar sign."
   ]
  },
  {
   "cell_type": "markdown",
   "metadata": {
    "colab_type": "text",
    "id": "N6klhgAUnOIk"
   },
   "source": [
    "## Submission Instructions\n",
    "\n",
    "Once you are finished, follow these steps:\n",
    "\n",
    "1. Restart the kernel and re-run this notebook from beginning to end by going to `Kernel > Restart Kernel and Run All Cells`.\n",
    "\n",
    "2. If this process stops halfway through, that means there was an error. Correct the error and repeat Step 1 until the notebook runs from beginning to end.\n",
    "\n",
    "3. Double check that there is a number next to each code cell and that these numbers are in order.\n",
    "\n",
    "Then, submit your lab as follows:\n",
    "\n",
    "1. Demo your lab to obtain credit.  \n",
    "\n",
    "2. Upload your .ipyn Notebook to iLearn and pdf to Gradescope."
   ]
  }
 ],
 "metadata": {
  "colab": {
   "collapsed_sections": [],
   "name": "1A. Distribution of First Digits.ipynb",
   "provenance": []
  },
  "kernelspec": {
   "display_name": "Python 3",
   "language": "python",
   "name": "python3"
  },
  "language_info": {
   "codemirror_mode": {
    "name": "ipython",
    "version": 3
   },
   "file_extension": ".py",
   "mimetype": "text/x-python",
   "name": "python",
   "nbconvert_exporter": "python",
   "pygments_lexer": "ipython3",
   "version": "3.8.5"
  }
 },
 "nbformat": 4,
 "nbformat_minor": 1
}
